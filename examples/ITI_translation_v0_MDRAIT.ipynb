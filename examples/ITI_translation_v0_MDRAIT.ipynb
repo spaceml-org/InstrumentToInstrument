{
 "cells": [
  {
   "cell_type": "markdown",
   "source": [
    "# This notebook presents a straightforward, step-by-step example of how to perform a translation after training the model. The example employs the translation between PROBA2/SWAP to SDO/AIA, but the same steps can be followed for any other pair of instruments."
   ],
   "metadata": {
    "collapsed": false
   },
   "id": "3c1e0b062aa734eb"
  },
  {
   "cell_type": "code",
   "execution_count": 1,
   "source": [
    "# First, we need to install the necessary libraries"
   ],
   "metadata": {
    "collapsed": false,
    "ExecuteTime": {
     "end_time": "2024-02-26T09:02:47.247117Z",
     "start_time": "2024-02-26T09:02:47.234884Z"
    }
   },
   "id": "d0af67775cb0607d",
   "outputs": []
  },
  {
   "cell_type": "code",
   "execution_count": 2,
   "source": [
    "import glob\n",
    "!pip install sunpy==3.0\n",
    "!pip install torch==1.9"
   ],
   "metadata": {
    "collapsed": false,
    "ExecuteTime": {
     "end_time": "2024-02-26T09:02:54.512618Z",
     "start_time": "2024-02-26T09:02:47.255366Z"
    }
   },
   "id": "1ed23014667620ca",
   "outputs": []
  },
  {
   "cell_type": "code",
   "execution_count": 15,
   "source": [
    "from iti.evaluation.evaluation import plotImageComparison, getSWAPdata, getAIAdata, translate\n",
    "import glob\n",
    "from iti.translate import SWAPToAIA\n",
    "#from iti.data.dataset import get_intersecting_files"
   ],
   "metadata": {
    "collapsed": false,
    "ExecuteTime": {
     "end_time": "2024-02-26T09:10:22.668585Z",
     "start_time": "2024-02-26T09:10:22.284138Z"
    }
   },
   "id": "c8ad0de893a62cce",
   "outputs": []
  },
  {
   "cell_type": "markdown",
   "source": [
    "# Select the wavelength channels to be used and glob the files"
   ],
   "metadata": {
    "collapsed": false
   },
   "id": "6e212bf1e6df364"
  },
  {
   "cell_type": "code",
   "execution_count": 14,
   "source": [
    "swap_channels = ['174']\n",
    "aia_channels = ['171']\n",
    "swap_path = 'iti_dataset/proba2/**/*.fits'\n",
    "aia_path = 'iti_dataset/sdo/**/*.fits'\n",
    "\n",
    "swap_files = sorted(glob.glob(swap_path, recursive=True))\n",
    "aia_files = sorted(glob.glob(aia_path, recursive=True))"
   ],
   "metadata": {
    "collapsed": false,
    "ExecuteTime": {
     "end_time": "2024-02-26T09:07:54.214431Z",
     "start_time": "2024-02-26T09:07:54.207660Z"
    }
   },
   "id": "494e413f4353fff2",
   "outputs": []
  },
  {
   "cell_type": "markdown",
   "source": [
    "# Initialize the translator and perform the translation"
   ],
   "metadata": {
    "collapsed": false
   },
   "id": "16f6bcbffec4bd6f"
  },
  {
   "cell_type": "code",
   "execution_count": null,
   "source": [
    "translator = SWAPToAIA()\n",
    "iti_maps = translate(files=swap_files, translator=translator)"
   ],
   "metadata": {
    "collapsed": false
   },
   "id": "834ea973055b4b14",
   "outputs": []
  },
  {
   "cell_type": "markdown",
   "source": [
    "# Load the ground truth and original images"
   ],
   "metadata": {
    "collapsed": false
   },
   "id": "4ae895d55ebfd213"
  },
  {
   "cell_type": "code",
   "execution_count": null,
   "source": [
    "swap_maps = getSWAPdata(swap_files)\n",
    "aia_maps = getAIAdata(aia_files)"
   ],
   "metadata": {
    "collapsed": false
   },
   "id": "15b9b6bb4bbae195",
   "outputs": []
  },
  {
   "cell_type": "markdown",
   "source": [
    "# Plot the original, ground truth and translated images"
   ],
   "metadata": {
    "collapsed": false
   },
   "id": "3bde4da67e2e247d"
  },
  {
   "cell_type": "code",
   "execution_count": null,
   "source": [
    "plotImageComparison(original=swap_maps[0], ground_truth=aia_maps[0], iti=iti_maps[0], original_norm=proba2_norm[174], ground_truth_norm=sdo_norms[171], path=None, name=None)"
   ],
   "metadata": {
    "collapsed": false
   },
   "id": "de34d876c853f60e",
   "outputs": []
  }
 ],
 "metadata": {
  "kernelspec": {
   "display_name": "Python 3",
   "language": "python",
   "name": "python3"
  },
  "language_info": {
   "codemirror_mode": {
    "name": "ipython",
    "version": 2
   },
   "file_extension": ".py",
   "mimetype": "text/x-python",
   "name": "python",
   "nbconvert_exporter": "python",
   "pygments_lexer": "ipython2",
   "version": "2.7.6"
  }
 },
 "nbformat": 4,
 "nbformat_minor": 5
}
